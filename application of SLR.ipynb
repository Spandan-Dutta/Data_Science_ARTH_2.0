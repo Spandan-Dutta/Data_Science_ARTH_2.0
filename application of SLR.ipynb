{
 "cells": [
  {
   "cell_type": "code",
   "execution_count": 2,
   "id": "a9b2dff5",
   "metadata": {},
   "outputs": [
    {
     "data": {
      "text/plain": [
       "array([[49417.10600231]])"
      ]
     },
     "execution_count": 2,
     "metadata": {},
     "output_type": "execute_result"
    }
   ],
   "source": [
    "#Code for Simple linear Regression\n",
    "import pandas\n",
    "dataset = pandas.read_csv('SalaryData.csv');\n",
    "y = dataset['Salary']\n",
    "x = dataset['YearsExperience']\n",
    "x = x.values.reshape(-1 , 1)\n",
    "y = y.values.reshape(-1 , 1)\n",
    "from sklearn.linear_model import LinearRegression\n",
    "model = LinearRegression()\n",
    "model.fit(x , y)\n",
    "model.predict([[2.5]])"
   ]
  },
  {
   "cell_type": "code",
   "execution_count": 3,
   "id": "ef94caac",
   "metadata": {},
   "outputs": [
    {
     "data": {
      "text/plain": [
       "array([[9449.96232146]])"
      ]
     },
     "execution_count": 3,
     "metadata": {},
     "output_type": "execute_result"
    }
   ],
   "source": [
    "model.coef_   # coefficient"
   ]
  },
  {
   "cell_type": "code",
   "execution_count": 4,
   "id": "88f1608f",
   "metadata": {},
   "outputs": [
    {
     "data": {
      "text/plain": [
       "array([25792.20019867])"
      ]
     },
     "execution_count": 4,
     "metadata": {},
     "output_type": "execute_result"
    }
   ],
   "source": [
    "model.intercept_"
   ]
  },
  {
   "cell_type": "code",
   "execution_count": 6,
   "id": "9441d904",
   "metadata": {},
   "outputs": [
    {
     "data": {
      "text/plain": [
       "['salary_model.pk1']"
      ]
     },
     "execution_count": 6,
     "metadata": {},
     "output_type": "execute_result"
    }
   ],
   "source": [
    "import joblib\n",
    "joblib.dump(model,'salary_model.pk1')"
   ]
  },
  {
   "cell_type": "code",
   "execution_count": 10,
   "id": "bd25a2f4",
   "metadata": {},
   "outputs": [
    {
     "name": "stdout",
     "output_type": "stream",
     "text": [
      "Enter your experience:  2.5\n",
      "The salary is:  [[49417.10600231]]\n"
     ]
    }
   ],
   "source": [
    "import joblib\n",
    "model = joblib.load('salary_model.pk1')\n",
    "print(\"Enter your experience: \", end = \" \")\n",
    "exp = float (input())\n",
    "print(\"The salary is: \" , end = \" \")\n",
    "predicted = model.predict([[exp]])\n",
    "print(predicted)"
   ]
  },
  {
   "cell_type": "code",
   "execution_count": null,
   "id": "ba4fb947",
   "metadata": {},
   "outputs": [],
   "source": []
  }
 ],
 "metadata": {
  "kernelspec": {
   "display_name": "Python 3",
   "language": "python",
   "name": "python3"
  },
  "language_info": {
   "codemirror_mode": {
    "name": "ipython",
    "version": 3
   },
   "file_extension": ".py",
   "mimetype": "text/x-python",
   "name": "python",
   "nbconvert_exporter": "python",
   "pygments_lexer": "ipython3",
   "version": "3.8.8"
  }
 },
 "nbformat": 4,
 "nbformat_minor": 5
}
