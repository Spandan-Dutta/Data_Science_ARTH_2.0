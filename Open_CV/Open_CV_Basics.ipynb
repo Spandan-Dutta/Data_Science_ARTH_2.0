{
 "cells": [
  {
   "cell_type": "code",
   "execution_count": 1,
   "id": "63d04411",
   "metadata": {},
   "outputs": [],
   "source": [
    "import cv2   "
   ]
  },
  {
   "cell_type": "code",
   "execution_count": 11,
   "id": "b85dfa73",
   "metadata": {},
   "outputs": [],
   "source": [
    "photo = cv2.imread(\"spandan.JPG\")"
   ]
  },
  {
   "cell_type": "code",
   "execution_count": 12,
   "id": "77a59a13",
   "metadata": {},
   "outputs": [
    {
     "data": {
      "text/plain": [
       "numpy.ndarray"
      ]
     },
     "execution_count": 12,
     "metadata": {},
     "output_type": "execute_result"
    }
   ],
   "source": [
    "type(photo)"
   ]
  },
  {
   "cell_type": "code",
   "execution_count": 13,
   "id": "b09b8c56",
   "metadata": {},
   "outputs": [
    {
     "data": {
      "text/plain": [
       "(6000, 4000, 3)"
      ]
     },
     "execution_count": 13,
     "metadata": {},
     "output_type": "execute_result"
    }
   ],
   "source": [
    "photo.shape"
   ]
  },
  {
   "cell_type": "code",
   "execution_count": 14,
   "id": "356a5232",
   "metadata": {},
   "outputs": [
    {
     "data": {
      "text/plain": [
       "array([[[255, 250, 243],\n",
       "        [255, 249, 242],\n",
       "        [255, 250, 241],\n",
       "        ...,\n",
       "        [255, 253, 243],\n",
       "        [255, 251, 244],\n",
       "        [255, 251, 244]],\n",
       "\n",
       "       [[255, 250, 243],\n",
       "        [255, 249, 242],\n",
       "        [255, 249, 240],\n",
       "        ...,\n",
       "        [255, 254, 244],\n",
       "        [255, 252, 245],\n",
       "        [255, 251, 244]],\n",
       "\n",
       "       [[255, 249, 242],\n",
       "        [255, 249, 242],\n",
       "        [255, 248, 241],\n",
       "        ...,\n",
       "        [255, 254, 244],\n",
       "        [255, 254, 244],\n",
       "        [255, 254, 244]],\n",
       "\n",
       "       ...,\n",
       "\n",
       "       [[209, 227, 250],\n",
       "        [208, 226, 249],\n",
       "        [209, 227, 250],\n",
       "        ...,\n",
       "        [175, 189, 178],\n",
       "        [172, 188, 177],\n",
       "        [174, 190, 179]],\n",
       "\n",
       "       [[211, 226, 252],\n",
       "        [210, 225, 251],\n",
       "        [209, 226, 252],\n",
       "        ...,\n",
       "        [172, 189, 176],\n",
       "        [170, 186, 175],\n",
       "        [174, 190, 179]],\n",
       "\n",
       "       [[210, 225, 251],\n",
       "        [209, 224, 250],\n",
       "        [207, 224, 250],\n",
       "        ...,\n",
       "        [173, 190, 177],\n",
       "        [175, 191, 180],\n",
       "        [177, 193, 182]]], dtype=uint8)"
      ]
     },
     "execution_count": 14,
     "metadata": {},
     "output_type": "execute_result"
    }
   ],
   "source": [
    "photo"
   ]
  },
  {
   "cell_type": "code",
   "execution_count": 33,
   "id": "9ced5089",
   "metadata": {},
   "outputs": [],
   "source": [
    "crop1 = photo[100:2500, 100:3000]"
   ]
  },
  {
   "cell_type": "code",
   "execution_count": 34,
   "id": "2b315c8e",
   "metadata": {},
   "outputs": [
    {
     "data": {
      "text/plain": [
       "True"
      ]
     },
     "execution_count": 34,
     "metadata": {},
     "output_type": "execute_result"
    }
   ],
   "source": [
    "cv2.imwrite(\"mycropped.jpg\" , crop1)"
   ]
  },
  {
   "cell_type": "code",
   "execution_count": 35,
   "id": "4d00a6ac",
   "metadata": {},
   "outputs": [],
   "source": [
    "capture = cv2.VideoCapture(0)"
   ]
  },
  {
   "cell_type": "code",
   "execution_count": 36,
   "id": "a0a4b8c3",
   "metadata": {},
   "outputs": [],
   "source": [
    "myphoto = capture.read()"
   ]
  },
  {
   "cell_type": "code",
   "execution_count": 38,
   "id": "6f121fe6",
   "metadata": {},
   "outputs": [
    {
     "data": {
      "text/plain": [
       "2"
      ]
     },
     "execution_count": 38,
     "metadata": {},
     "output_type": "execute_result"
    }
   ],
   "source": [
    "len(myphoto)"
   ]
  },
  {
   "cell_type": "code",
   "execution_count": 45,
   "id": "b35ceff5",
   "metadata": {},
   "outputs": [],
   "source": [
    "actual_photo = myphoto[1]"
   ]
  },
  {
   "cell_type": "code",
   "execution_count": 46,
   "id": "650df9ef",
   "metadata": {},
   "outputs": [
    {
     "data": {
      "text/plain": [
       "True"
      ]
     },
     "execution_count": 46,
     "metadata": {},
     "output_type": "execute_result"
    }
   ],
   "source": [
    "cv2.imwrite(\"Spandan2.jpg\" , actual_photo)"
   ]
  },
  {
   "cell_type": "code",
   "execution_count": null,
   "id": "d8483488",
   "metadata": {},
   "outputs": [],
   "source": []
  }
 ],
 "metadata": {
  "kernelspec": {
   "display_name": "Python 3",
   "language": "python",
   "name": "python3"
  },
  "language_info": {
   "codemirror_mode": {
    "name": "ipython",
    "version": 3
   },
   "file_extension": ".py",
   "mimetype": "text/x-python",
   "name": "python",
   "nbconvert_exporter": "python",
   "pygments_lexer": "ipython3",
   "version": "3.8.8"
  }
 },
 "nbformat": 4,
 "nbformat_minor": 5
}
