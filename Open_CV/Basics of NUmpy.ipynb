{
 "cells": [
  {
   "cell_type": "code",
   "execution_count": 1,
   "id": "9f8e6dc7",
   "metadata": {},
   "outputs": [
    {
     "data": {
      "text/plain": [
       "list"
      ]
     },
     "execution_count": 1,
     "metadata": {},
     "output_type": "execute_result"
    }
   ],
   "source": [
    "db = [\"Vimal\" , \"Pop\" , \"jack\" , \"eric\"]\n",
    "type (db)"
   ]
  },
  {
   "cell_type": "code",
   "execution_count": 4,
   "id": "ced7786a",
   "metadata": {},
   "outputs": [
    {
     "data": {
      "text/plain": [
       "['Pop', 'jack']"
      ]
     },
     "execution_count": 4,
     "metadata": {},
     "output_type": "execute_result"
    }
   ],
   "source": [
    "db [1:3]"
   ]
  },
  {
   "cell_type": "code",
   "execution_count": 8,
   "id": "48f708aa",
   "metadata": {},
   "outputs": [],
   "source": [
    "import numpy\n",
    "a = numpy.array(db)"
   ]
  },
  {
   "cell_type": "code",
   "execution_count": 9,
   "id": "b1ef76da",
   "metadata": {},
   "outputs": [
    {
     "data": {
      "text/plain": [
       "numpy.ndarray"
      ]
     },
     "execution_count": 9,
     "metadata": {},
     "output_type": "execute_result"
    }
   ],
   "source": [
    "type(a)"
   ]
  },
  {
   "cell_type": "code",
   "execution_count": null,
   "id": "b2f758d0",
   "metadata": {},
   "outputs": [],
   "source": []
  }
 ],
 "metadata": {
  "kernelspec": {
   "display_name": "Python 3",
   "language": "python",
   "name": "python3"
  },
  "language_info": {
   "codemirror_mode": {
    "name": "ipython",
    "version": 3
   },
   "file_extension": ".py",
   "mimetype": "text/x-python",
   "name": "python",
   "nbconvert_exporter": "python",
   "pygments_lexer": "ipython3",
   "version": "3.8.8"
  }
 },
 "nbformat": 4,
 "nbformat_minor": 5
}
